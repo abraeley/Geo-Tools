{
 "cells": [
  {
   "cell_type": "code",
   "execution_count": null,
   "metadata": {},
   "outputs": [],
   "source": [
    "from IPython.display import Latex\n",
    "from tkinter import *\n"
   ]
  },
  {
   "cell_type": "markdown",
   "metadata": {},
   "source": [
    "This tool is designed for a narrow purpose: to make a quick estimate for the maximum height of a mountain on a planetary body. Two parameters are needed to enter into the tool: a mass (in kilograms) and a radius (in meters). The mass will be scaled up to the 23rd power (i.e. entering 6.4 would mean 6.4x10^23 kilograms). Similarly, the radius is scaled up to the 6th power (i.e. entering 3.397 would mean 3.397 x10^6 meters).\n",
    "\n",
    "The program makes its argument by virtue of hydrostatic equilibrium. The system is obviously idealized and simplified. It is not meant to be a last word and doesn't pretend to be. The system also is not a calculation for any specific mountain's height: i.e. it will not return the height of Olympus Mons when entering the values of the Martian mass and radius. It is simply a quick approximation of somewhere near the limit of height for a mountain on such a planet.\n",
    "\n",
    "Assumptions: \n",
    "\n",
    "-Density is set at a constant 3000 kg/m^3\n",
    "\n",
    "-The strength of the planetary rock is uniformly 2.5x10^8 N/m^2\n",
    "\n",
    "\n",
    "The equation for hydrostatic equilibrium is:"
   ]
  },
  {
   "cell_type": "code",
   "execution_count": null,
   "metadata": {},
   "outputs": [],
   "source": [
    "Latex(r\"\"\"\\begin{eqnarray}\n",
    "\n",
    "\\frac{dP}{dr} = - \\frac{GM \\rho}{r^2}\\\\\n",
    "\n",
    "\\end{eqnarray}\"\"\")"
   ]
  },
  {
   "cell_type": "markdown",
   "metadata": {},
   "source": [
    "It can be simplified into:"
   ]
  },
  {
   "cell_type": "code",
   "execution_count": null,
   "metadata": {},
   "outputs": [],
   "source": [
    "Latex(r\"\"\"\\begin{eqnarray}\n",
    "\n",
    "P = \\rho g h_{max}\n",
    "\n",
    "\\end{eqnarray}\"\"\")"
   ]
  },
  {
   "cell_type": "code",
   "execution_count": null,
   "metadata": {},
   "outputs": [],
   "source": [
    "window = Tk()\n",
    "window.title(\"Mountain Limit Calculator\")\n",
    "window.geometry('415x350')\n",
    "#- Initializes window"
   ]
  },
  {
   "cell_type": "code",
   "execution_count": null,
   "metadata": {},
   "outputs": [],
   "source": [
    "lbl = Label(window, text=\"Enter a values for a planetary body (it will \\nbe interpreted as kilograms and meters). The differential \\nequation for hydrostatic equilibrium will be \\ncalculated to give an approximate maximum height\\n for a given mountain on that planet.\")\n",
    "lbl.grid(row=0, column=0)\n",
    "#- Text description of the tool \n",
    "lbl2 = Label(window, text=\"Assumptions:\\n -Density is set at a constant 3000 kg/m^3\\n -The strength of the planetary rock is \\nuniformly 2.5x10^8 N/m^2\") \n",
    "lbl2.grid(row=1, column=0)\n",
    "#- Assumptions\n",
    "    \n",
    "massEntry = Entry(window)\n",
    "massEntry.grid(row=2, column=0)\n",
    "massEntry.insert(0, 'Enter mass (x10^23 kg)')\n",
    "#- Mass entry box\n",
    "\n",
    "radiusEntry = Entry(window)\n",
    "radiusEntry.grid(row=3, column=0)\n",
    "radiusEntry.insert(0, 'Enter radius (x10^6 m)')\n",
    "#- Radius entry box\n",
    "\n",
    "lbl3 = Label(window, text=\"\") \n",
    "lbl3.grid(row=6, column=0)\n",
    "#- Results label"
   ]
  },
  {
   "cell_type": "code",
   "execution_count": null,
   "metadata": {},
   "outputs": [],
   "source": [
    "def calculate():\n",
    "    ''' This function takes the two input parameters \"mass\" and \"radius\" and \n",
    "        Uses them to complete the hydrostatic equilibrium equation:\n",
    "        DP/dr = -(GM/r^2)p'''\n",
    "    \n",
    "    mass = float(massEntry.get())*10**23 #- kg\n",
    "    radius = float(radiusEntry.get())*10**3 #- \n",
    "    gravConst = 6.67*10**-11 #- m^3/kg*s^2\n",
    "    bulkModulus = 2.5*10**8 #- N/m^2\n",
    "    density = 3000 #- kg/m^3\n",
    "    \n",
    "    gravAcceleration = (gravConst*mass)/(radius**2)\n",
    "    \n",
    "    Height = bulkModulus/(density*gravAcceleration)\n",
    "    \n",
    "    lbl3.configure(text=str(Height*10**3)+(\" km tall is the maximum\"))\n",
    " \n"
   ]
  },
  {
   "cell_type": "code",
   "execution_count": null,
   "metadata": {},
   "outputs": [],
   "source": [
    "btn = Button(window, text=\"Calculate\", command=calculate)\n",
    "btn.grid(row=5)\n",
    "#- Button that calls the calculate function"
   ]
  },
  {
   "cell_type": "code",
   "execution_count": null,
   "metadata": {},
   "outputs": [],
   "source": [
    "window.mainloop()"
   ]
  },
  {
   "cell_type": "code",
   "execution_count": null,
   "metadata": {},
   "outputs": [],
   "source": []
  }
 ],
 "metadata": {
  "kernelspec": {
   "display_name": "Python 3",
   "language": "python",
   "name": "python3"
  },
  "language_info": {
   "codemirror_mode": {
    "name": "ipython",
    "version": 3
   },
   "file_extension": ".py",
   "mimetype": "text/x-python",
   "name": "python",
   "nbconvert_exporter": "python",
   "pygments_lexer": "ipython3",
   "version": "3.6.4"
  }
 },
 "nbformat": 4,
 "nbformat_minor": 2
}
